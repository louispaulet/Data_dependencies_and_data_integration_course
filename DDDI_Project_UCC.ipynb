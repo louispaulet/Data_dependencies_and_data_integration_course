{
  "nbformat": 4,
  "nbformat_minor": 0,
  "metadata": {
    "colab": {
      "name": "DDDI_Project UCC.ipynb",
      "provenance": [],
      "collapsed_sections": [],
      "include_colab_link": true
    },
    "kernelspec": {
      "name": "python3",
      "display_name": "Python 3"
    }
  },
  "cells": [
    {
      "cell_type": "markdown",
      "metadata": {
        "id": "view-in-github",
        "colab_type": "text"
      },
      "source": [
        "<a href=\"https://colab.research.google.com/github/louispaulet/Data_dependencies_and_data_integration_course/blob/main/DDDI_Project_UCC.ipynb\" target=\"_parent\"><img src=\"https://colab.research.google.com/assets/colab-badge.svg\" alt=\"Open In Colab\"/></a>"
      ]
    },
    {
      "cell_type": "code",
      "metadata": {
        "id": "cnQnFdcUpFaJ"
      },
      "source": [
        "# !pip install pandas-profiling"
      ],
      "execution_count": null,
      "outputs": []
    },
    {
      "cell_type": "code",
      "metadata": {
        "id": "2eU4Xrx1qvfm"
      },
      "source": [
        ""
      ],
      "execution_count": null,
      "outputs": []
    },
    {
      "cell_type": "code",
      "metadata": {
        "colab": {
          "base_uri": "https://localhost:8080/",
          "height": 254
        },
        "id": "8XX9fdVDttSi",
        "outputId": "c158c884-f852-4d19-c121-cd27dfcac3ca"
      },
      "source": [
        "import pandas as pd\n",
        "import io\n",
        "\n",
        "df = pd.read_csv('Table1.csv')\n",
        "df\n"
      ],
      "execution_count": null,
      "outputs": [
        {
          "output_type": "execute_result",
          "data": {
            "text/html": [
              "<div>\n",
              "<style scoped>\n",
              "    .dataframe tbody tr th:only-of-type {\n",
              "        vertical-align: middle;\n",
              "    }\n",
              "\n",
              "    .dataframe tbody tr th {\n",
              "        vertical-align: top;\n",
              "    }\n",
              "\n",
              "    .dataframe thead th {\n",
              "        text-align: right;\n",
              "    }\n",
              "</style>\n",
              "<table border=\"1\" class=\"dataframe\">\n",
              "  <thead>\n",
              "    <tr style=\"text-align: right;\">\n",
              "      <th></th>\n",
              "      <th>A</th>\n",
              "      <th>B</th>\n",
              "      <th>C</th>\n",
              "      <th>D</th>\n",
              "      <th>E</th>\n",
              "    </tr>\n",
              "  </thead>\n",
              "  <tbody>\n",
              "    <tr>\n",
              "      <th>0</th>\n",
              "      <td>0</td>\n",
              "      <td>0</td>\n",
              "      <td>0</td>\n",
              "      <td>2</td>\n",
              "      <td>0</td>\n",
              "    </tr>\n",
              "    <tr>\n",
              "      <th>1</th>\n",
              "      <td>0</td>\n",
              "      <td>1</td>\n",
              "      <td>0</td>\n",
              "      <td>2</td>\n",
              "      <td>0</td>\n",
              "    </tr>\n",
              "    <tr>\n",
              "      <th>2</th>\n",
              "      <td>0</td>\n",
              "      <td>2</td>\n",
              "      <td>0</td>\n",
              "      <td>2</td>\n",
              "      <td>2</td>\n",
              "    </tr>\n",
              "    <tr>\n",
              "      <th>3</th>\n",
              "      <td>0</td>\n",
              "      <td>3</td>\n",
              "      <td>1</td>\n",
              "      <td>2</td>\n",
              "      <td>0</td>\n",
              "    </tr>\n",
              "    <tr>\n",
              "      <th>4</th>\n",
              "      <td>4</td>\n",
              "      <td>1</td>\n",
              "      <td>1</td>\n",
              "      <td>1</td>\n",
              "      <td>4</td>\n",
              "    </tr>\n",
              "    <tr>\n",
              "      <th>5</th>\n",
              "      <td>4</td>\n",
              "      <td>3</td>\n",
              "      <td>1</td>\n",
              "      <td>1</td>\n",
              "      <td>2</td>\n",
              "    </tr>\n",
              "    <tr>\n",
              "      <th>6</th>\n",
              "      <td>0</td>\n",
              "      <td>0</td>\n",
              "      <td>1</td>\n",
              "      <td>2</td>\n",
              "      <td>0</td>\n",
              "    </tr>\n",
              "  </tbody>\n",
              "</table>\n",
              "</div>"
            ],
            "text/plain": [
              "   A  B  C  D  E\n",
              "0  0  0  0  2  0\n",
              "1  0  1  0  2  0\n",
              "2  0  2  0  2  2\n",
              "3  0  3  1  2  0\n",
              "4  4  1  1  1  4\n",
              "5  4  3  1  1  2\n",
              "6  0  0  1  2  0"
            ]
          },
          "metadata": {
            "tags": []
          },
          "execution_count": 177
        }
      ]
    },
    {
      "cell_type": "code",
      "metadata": {
        "colab": {
          "base_uri": "https://localhost:8080/",
          "height": 284
        },
        "id": "eoOJQ4_3txuh",
        "outputId": "35687bb9-602c-4676-9161-b309a5848317"
      },
      "source": [
        "df.describe()"
      ],
      "execution_count": null,
      "outputs": [
        {
          "output_type": "execute_result",
          "data": {
            "text/html": [
              "<div>\n",
              "<style scoped>\n",
              "    .dataframe tbody tr th:only-of-type {\n",
              "        vertical-align: middle;\n",
              "    }\n",
              "\n",
              "    .dataframe tbody tr th {\n",
              "        vertical-align: top;\n",
              "    }\n",
              "\n",
              "    .dataframe thead th {\n",
              "        text-align: right;\n",
              "    }\n",
              "</style>\n",
              "<table border=\"1\" class=\"dataframe\">\n",
              "  <thead>\n",
              "    <tr style=\"text-align: right;\">\n",
              "      <th></th>\n",
              "      <th>A</th>\n",
              "      <th>B</th>\n",
              "      <th>C</th>\n",
              "      <th>D</th>\n",
              "      <th>E</th>\n",
              "    </tr>\n",
              "  </thead>\n",
              "  <tbody>\n",
              "    <tr>\n",
              "      <th>count</th>\n",
              "      <td>7.000000</td>\n",
              "      <td>7.000000</td>\n",
              "      <td>7.000000</td>\n",
              "      <td>7.000000</td>\n",
              "      <td>7.000000</td>\n",
              "    </tr>\n",
              "    <tr>\n",
              "      <th>mean</th>\n",
              "      <td>1.142857</td>\n",
              "      <td>1.428571</td>\n",
              "      <td>0.571429</td>\n",
              "      <td>1.714286</td>\n",
              "      <td>1.142857</td>\n",
              "    </tr>\n",
              "    <tr>\n",
              "      <th>std</th>\n",
              "      <td>1.951800</td>\n",
              "      <td>1.272418</td>\n",
              "      <td>0.534522</td>\n",
              "      <td>0.487950</td>\n",
              "      <td>1.573592</td>\n",
              "    </tr>\n",
              "    <tr>\n",
              "      <th>min</th>\n",
              "      <td>0.000000</td>\n",
              "      <td>0.000000</td>\n",
              "      <td>0.000000</td>\n",
              "      <td>1.000000</td>\n",
              "      <td>0.000000</td>\n",
              "    </tr>\n",
              "    <tr>\n",
              "      <th>25%</th>\n",
              "      <td>0.000000</td>\n",
              "      <td>0.500000</td>\n",
              "      <td>0.000000</td>\n",
              "      <td>1.500000</td>\n",
              "      <td>0.000000</td>\n",
              "    </tr>\n",
              "    <tr>\n",
              "      <th>50%</th>\n",
              "      <td>0.000000</td>\n",
              "      <td>1.000000</td>\n",
              "      <td>1.000000</td>\n",
              "      <td>2.000000</td>\n",
              "      <td>0.000000</td>\n",
              "    </tr>\n",
              "    <tr>\n",
              "      <th>75%</th>\n",
              "      <td>2.000000</td>\n",
              "      <td>2.500000</td>\n",
              "      <td>1.000000</td>\n",
              "      <td>2.000000</td>\n",
              "      <td>2.000000</td>\n",
              "    </tr>\n",
              "    <tr>\n",
              "      <th>max</th>\n",
              "      <td>4.000000</td>\n",
              "      <td>3.000000</td>\n",
              "      <td>1.000000</td>\n",
              "      <td>2.000000</td>\n",
              "      <td>4.000000</td>\n",
              "    </tr>\n",
              "  </tbody>\n",
              "</table>\n",
              "</div>"
            ],
            "text/plain": [
              "              A         B         C         D         E\n",
              "count  7.000000  7.000000  7.000000  7.000000  7.000000\n",
              "mean   1.142857  1.428571  0.571429  1.714286  1.142857\n",
              "std    1.951800  1.272418  0.534522  0.487950  1.573592\n",
              "min    0.000000  0.000000  0.000000  1.000000  0.000000\n",
              "25%    0.000000  0.500000  0.000000  1.500000  0.000000\n",
              "50%    0.000000  1.000000  1.000000  2.000000  0.000000\n",
              "75%    2.000000  2.500000  1.000000  2.000000  2.000000\n",
              "max    4.000000  3.000000  1.000000  2.000000  4.000000"
            ]
          },
          "metadata": {
            "tags": []
          },
          "execution_count": 178
        }
      ]
    },
    {
      "cell_type": "markdown",
      "metadata": {
        "id": "Akt7yeiYfQbP"
      },
      "source": [
        "We start easy with a ucc_2() function that only checks pairs of columns"
      ]
    },
    {
      "cell_type": "code",
      "metadata": {
        "id": "cSVMUzJ3t85_",
        "colab": {
          "base_uri": "https://localhost:8080/"
        },
        "outputId": "a012602d-c9c6-41b2-8a1a-960a507c4d97"
      },
      "source": [
        "def ucc_2(df):\n",
        "  list_of_uccs = []\n",
        "  #for every column\n",
        "  for col in df:\n",
        "    #for every combination of column\n",
        "    for col2 in df:\n",
        "      #if the columns are not the same one and they do not have duplicate rows when joined row by row:\n",
        "      if (col != col2 and len(df[col].index) == len(((pd.concat([df2[col], df2[col2]], axis=1)).drop_duplicates()).index)):\n",
        "        #add to the list of uccs\n",
        "        list_of_uccs.append((col, col2))\n",
        "  return list_of_uccs\n",
        "\n",
        "#we run ucc() on default dataframe and get an empty result because there are no UCCs  \n",
        "ucc_2(df)        "
      ],
      "execution_count": null,
      "outputs": [
        {
          "output_type": "execute_result",
          "data": {
            "text/plain": [
              "[]"
            ]
          },
          "metadata": {
            "tags": []
          },
          "execution_count": 179
        }
      ]
    },
    {
      "cell_type": "code",
      "metadata": {
        "colab": {
          "base_uri": "https://localhost:8080/",
          "height": 254
        },
        "id": "FDKr40Cu06TJ",
        "outputId": "4a363e22-41f7-4b49-c7b5-c823261da7a2"
      },
      "source": [
        "#create a dataframe with an \"index\" column that will make supersets of \"test_col\" all UCCs\n",
        "df2 = df.copy()\n",
        "df2['test_col'] = range(1, len(df) + 1)\n",
        "df2"
      ],
      "execution_count": null,
      "outputs": [
        {
          "output_type": "execute_result",
          "data": {
            "text/html": [
              "<div>\n",
              "<style scoped>\n",
              "    .dataframe tbody tr th:only-of-type {\n",
              "        vertical-align: middle;\n",
              "    }\n",
              "\n",
              "    .dataframe tbody tr th {\n",
              "        vertical-align: top;\n",
              "    }\n",
              "\n",
              "    .dataframe thead th {\n",
              "        text-align: right;\n",
              "    }\n",
              "</style>\n",
              "<table border=\"1\" class=\"dataframe\">\n",
              "  <thead>\n",
              "    <tr style=\"text-align: right;\">\n",
              "      <th></th>\n",
              "      <th>A</th>\n",
              "      <th>B</th>\n",
              "      <th>C</th>\n",
              "      <th>D</th>\n",
              "      <th>E</th>\n",
              "      <th>test_col</th>\n",
              "    </tr>\n",
              "  </thead>\n",
              "  <tbody>\n",
              "    <tr>\n",
              "      <th>0</th>\n",
              "      <td>0</td>\n",
              "      <td>0</td>\n",
              "      <td>0</td>\n",
              "      <td>2</td>\n",
              "      <td>0</td>\n",
              "      <td>1</td>\n",
              "    </tr>\n",
              "    <tr>\n",
              "      <th>1</th>\n",
              "      <td>0</td>\n",
              "      <td>1</td>\n",
              "      <td>0</td>\n",
              "      <td>2</td>\n",
              "      <td>0</td>\n",
              "      <td>2</td>\n",
              "    </tr>\n",
              "    <tr>\n",
              "      <th>2</th>\n",
              "      <td>0</td>\n",
              "      <td>2</td>\n",
              "      <td>0</td>\n",
              "      <td>2</td>\n",
              "      <td>2</td>\n",
              "      <td>3</td>\n",
              "    </tr>\n",
              "    <tr>\n",
              "      <th>3</th>\n",
              "      <td>0</td>\n",
              "      <td>3</td>\n",
              "      <td>1</td>\n",
              "      <td>2</td>\n",
              "      <td>0</td>\n",
              "      <td>4</td>\n",
              "    </tr>\n",
              "    <tr>\n",
              "      <th>4</th>\n",
              "      <td>4</td>\n",
              "      <td>1</td>\n",
              "      <td>1</td>\n",
              "      <td>1</td>\n",
              "      <td>4</td>\n",
              "      <td>5</td>\n",
              "    </tr>\n",
              "    <tr>\n",
              "      <th>5</th>\n",
              "      <td>4</td>\n",
              "      <td>3</td>\n",
              "      <td>1</td>\n",
              "      <td>1</td>\n",
              "      <td>2</td>\n",
              "      <td>6</td>\n",
              "    </tr>\n",
              "    <tr>\n",
              "      <th>6</th>\n",
              "      <td>0</td>\n",
              "      <td>0</td>\n",
              "      <td>1</td>\n",
              "      <td>2</td>\n",
              "      <td>0</td>\n",
              "      <td>7</td>\n",
              "    </tr>\n",
              "  </tbody>\n",
              "</table>\n",
              "</div>"
            ],
            "text/plain": [
              "   A  B  C  D  E  test_col\n",
              "0  0  0  0  2  0         1\n",
              "1  0  1  0  2  0         2\n",
              "2  0  2  0  2  2         3\n",
              "3  0  3  1  2  0         4\n",
              "4  4  1  1  1  4         5\n",
              "5  4  3  1  1  2         6\n",
              "6  0  0  1  2  0         7"
            ]
          },
          "metadata": {
            "tags": []
          },
          "execution_count": 180
        }
      ]
    },
    {
      "cell_type": "code",
      "metadata": {
        "colab": {
          "base_uri": "https://localhost:8080/"
        },
        "id": "UzTYUuRI1kea",
        "outputId": "6ffd61db-7cfc-4446-cce1-0e578a9196f6"
      },
      "source": [
        "#we can see that the function returns supersets of \"test_col\" as UCCs -- should we keep the symetry ?\n",
        "ucc_2(df2)"
      ],
      "execution_count": null,
      "outputs": [
        {
          "output_type": "execute_result",
          "data": {
            "text/plain": [
              "[('A', 'test_col'),\n",
              " ('B', 'test_col'),\n",
              " ('C', 'test_col'),\n",
              " ('D', 'test_col'),\n",
              " ('E', 'test_col'),\n",
              " ('test_col', 'A'),\n",
              " ('test_col', 'B'),\n",
              " ('test_col', 'C'),\n",
              " ('test_col', 'D'),\n",
              " ('test_col', 'E')]"
            ]
          },
          "metadata": {
            "tags": []
          },
          "execution_count": 181
        }
      ]
    },
    {
      "cell_type": "markdown",
      "metadata": {
        "id": "PtCFk5ooa4qN"
      },
      "source": [
        "We need to find all combinations of columns that are UCC, not only two columns.\n",
        "We use itertools to generate all combinations of columns from df :"
      ]
    },
    {
      "cell_type": "code",
      "metadata": {
        "colab": {
          "base_uri": "https://localhost:8080/"
        },
        "id": "SRdBlpChbmQq",
        "outputId": "3347055b-c3d9-4eb3-c3b8-aceec2443d3a"
      },
      "source": [
        "from itertools import combinations \n",
        "\n",
        "column_combination = []\n",
        "for i in range(1, len(df.columns)+1):\n",
        "  for item in list(combinations(df.columns, i)):\n",
        "    column_combination.append(item)\n",
        "column_combination"
      ],
      "execution_count": null,
      "outputs": [
        {
          "output_type": "execute_result",
          "data": {
            "text/plain": [
              "[('A',),\n",
              " ('B',),\n",
              " ('C',),\n",
              " ('D',),\n",
              " ('E',),\n",
              " ('A', 'B'),\n",
              " ('A', 'C'),\n",
              " ('A', 'D'),\n",
              " ('A', 'E'),\n",
              " ('B', 'C'),\n",
              " ('B', 'D'),\n",
              " ('B', 'E'),\n",
              " ('C', 'D'),\n",
              " ('C', 'E'),\n",
              " ('D', 'E'),\n",
              " ('A', 'B', 'C'),\n",
              " ('A', 'B', 'D'),\n",
              " ('A', 'B', 'E'),\n",
              " ('A', 'C', 'D'),\n",
              " ('A', 'C', 'E'),\n",
              " ('A', 'D', 'E'),\n",
              " ('B', 'C', 'D'),\n",
              " ('B', 'C', 'E'),\n",
              " ('B', 'D', 'E'),\n",
              " ('C', 'D', 'E'),\n",
              " ('A', 'B', 'C', 'D'),\n",
              " ('A', 'B', 'C', 'E'),\n",
              " ('A', 'B', 'D', 'E'),\n",
              " ('A', 'C', 'D', 'E'),\n",
              " ('B', 'C', 'D', 'E'),\n",
              " ('A', 'B', 'C', 'D', 'E')]"
            ]
          },
          "metadata": {
            "tags": []
          },
          "execution_count": 182
        }
      ]
    },
    {
      "cell_type": "markdown",
      "metadata": {
        "id": "n1LRXZSbf6Wk"
      },
      "source": [
        "This ucc() function manages all combinations of columns"
      ]
    },
    {
      "cell_type": "code",
      "metadata": {
        "colab": {
          "base_uri": "https://localhost:8080/"
        },
        "id": "CBrSQBkwdCd6",
        "outputId": "1394eb50-0316-42c0-ce6a-1ac9be4dbded"
      },
      "source": [
        "def ucc(df):\n",
        "\n",
        "  column_combination = []\n",
        "  for i in range(1, len(df.columns)+1):\n",
        "    for item in list(combinations(df.columns, i)):\n",
        "      column_combination.append(item)\n",
        "\n",
        "  list_of_uccs = []\n",
        "  for comb in column_combination:\n",
        "    frames = []\n",
        "    for col_name in list(comb):\n",
        "      frames.append(df[col_name])\n",
        "    # print(pd.concat(frames, axis=1).drop_duplicates())\n",
        "    if (len(frames[0].index) == len(((pd.concat(frames, axis=1)).drop_duplicates()).index)):\n",
        "      list_of_uccs.append(comb)\n",
        "\n",
        "\n",
        "  return list_of_uccs\n",
        "\n",
        "ucc(df)"
      ],
      "execution_count": null,
      "outputs": [
        {
          "output_type": "execute_result",
          "data": {
            "text/plain": [
              "[('A', 'B', 'C'),\n",
              " ('B', 'C', 'D'),\n",
              " ('B', 'C', 'E'),\n",
              " ('A', 'B', 'C', 'D'),\n",
              " ('A', 'B', 'C', 'E'),\n",
              " ('B', 'C', 'D', 'E'),\n",
              " ('A', 'B', 'C', 'D', 'E')]"
            ]
          },
          "metadata": {
            "tags": []
          },
          "execution_count": 183
        }
      ]
    },
    {
      "cell_type": "markdown",
      "metadata": {
        "id": "10_XS7gRhb6f"
      },
      "source": [
        "Now we try it with the df2 that contains \"test_col\" to see if all supersets of \"test_col\" are generated :"
      ]
    },
    {
      "cell_type": "code",
      "metadata": {
        "colab": {
          "base_uri": "https://localhost:8080/"
        },
        "id": "kVD9G9BsfbeC",
        "outputId": "b9687e46-fb1e-4cb9-f319-d0323e525ee6"
      },
      "source": [
        "ucc(df2)"
      ],
      "execution_count": null,
      "outputs": [
        {
          "output_type": "execute_result",
          "data": {
            "text/plain": [
              "[('test_col',),\n",
              " ('A', 'test_col'),\n",
              " ('B', 'test_col'),\n",
              " ('C', 'test_col'),\n",
              " ('D', 'test_col'),\n",
              " ('E', 'test_col'),\n",
              " ('A', 'B', 'C'),\n",
              " ('A', 'B', 'test_col'),\n",
              " ('A', 'C', 'test_col'),\n",
              " ('A', 'D', 'test_col'),\n",
              " ('A', 'E', 'test_col'),\n",
              " ('B', 'C', 'D'),\n",
              " ('B', 'C', 'E'),\n",
              " ('B', 'C', 'test_col'),\n",
              " ('B', 'D', 'test_col'),\n",
              " ('B', 'E', 'test_col'),\n",
              " ('C', 'D', 'test_col'),\n",
              " ('C', 'E', 'test_col'),\n",
              " ('D', 'E', 'test_col'),\n",
              " ('A', 'B', 'C', 'D'),\n",
              " ('A', 'B', 'C', 'E'),\n",
              " ('A', 'B', 'C', 'test_col'),\n",
              " ('A', 'B', 'D', 'test_col'),\n",
              " ('A', 'B', 'E', 'test_col'),\n",
              " ('A', 'C', 'D', 'test_col'),\n",
              " ('A', 'C', 'E', 'test_col'),\n",
              " ('A', 'D', 'E', 'test_col'),\n",
              " ('B', 'C', 'D', 'E'),\n",
              " ('B', 'C', 'D', 'test_col'),\n",
              " ('B', 'C', 'E', 'test_col'),\n",
              " ('B', 'D', 'E', 'test_col'),\n",
              " ('C', 'D', 'E', 'test_col'),\n",
              " ('A', 'B', 'C', 'D', 'E'),\n",
              " ('A', 'B', 'C', 'D', 'test_col'),\n",
              " ('A', 'B', 'C', 'E', 'test_col'),\n",
              " ('A', 'B', 'D', 'E', 'test_col'),\n",
              " ('A', 'C', 'D', 'E', 'test_col'),\n",
              " ('B', 'C', 'D', 'E', 'test_col'),\n",
              " ('A', 'B', 'C', 'D', 'E', 'test_col')]"
            ]
          },
          "metadata": {
            "tags": []
          },
          "execution_count": 184
        }
      ]
    }
  ]
}