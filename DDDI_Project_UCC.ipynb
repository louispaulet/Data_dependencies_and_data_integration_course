{
  "nbformat": 4,
  "nbformat_minor": 0,
  "metadata": {
    "colab": {
      "name": "DDDI_Project UCC.ipynb",
      "provenance": [],
      "collapsed_sections": [],
      "include_colab_link": true
    },
    "kernelspec": {
      "name": "python3",
      "display_name": "Python 3"
    }
  },
  "cells": [
    {
      "cell_type": "markdown",
      "metadata": {
        "id": "view-in-github",
        "colab_type": "text"
      },
      "source": [
        "<a href=\"https://colab.research.google.com/github/louispaulet/Data_dependencies_and_data_integration_course/blob/main/DDDI_Project_UCC.ipynb\" target=\"_parent\"><img src=\"https://colab.research.google.com/assets/colab-badge.svg\" alt=\"Open In Colab\"/></a>"
      ]
    },
    {
      "cell_type": "code",
      "metadata": {
        "id": "YQGr8yEYhNY5"
      },
      "source": [
        "import pandas as pd\r\n",
        "import io"
      ],
      "execution_count": 24,
      "outputs": []
    },
    {
      "cell_type": "code",
      "metadata": {
        "colab": {
          "base_uri": "https://localhost:8080/",
          "height": 266
        },
        "id": "8XX9fdVDttSi",
        "outputId": "7c150bd6-9ac0-49bc-c0d9-fcbd2936c8cd"
      },
      "source": [
        "df = pd.read_csv('https://raw.githubusercontent.com/USEPA/FDTool/master/data/input/Table1.csv')\n",
        "df\n"
      ],
      "execution_count": 25,
      "outputs": [
        {
          "output_type": "execute_result",
          "data": {
            "text/html": [
              "<div>\n",
              "<style scoped>\n",
              "    .dataframe tbody tr th:only-of-type {\n",
              "        vertical-align: middle;\n",
              "    }\n",
              "\n",
              "    .dataframe tbody tr th {\n",
              "        vertical-align: top;\n",
              "    }\n",
              "\n",
              "    .dataframe thead th {\n",
              "        text-align: right;\n",
              "    }\n",
              "</style>\n",
              "<table border=\"1\" class=\"dataframe\">\n",
              "  <thead>\n",
              "    <tr style=\"text-align: right;\">\n",
              "      <th></th>\n",
              "      <th>A</th>\n",
              "      <th>B</th>\n",
              "      <th>C</th>\n",
              "      <th>D</th>\n",
              "      <th>E</th>\n",
              "    </tr>\n",
              "  </thead>\n",
              "  <tbody>\n",
              "    <tr>\n",
              "      <th>0</th>\n",
              "      <td>0</td>\n",
              "      <td>0</td>\n",
              "      <td>0</td>\n",
              "      <td>2</td>\n",
              "      <td>0</td>\n",
              "    </tr>\n",
              "    <tr>\n",
              "      <th>1</th>\n",
              "      <td>0</td>\n",
              "      <td>1</td>\n",
              "      <td>0</td>\n",
              "      <td>2</td>\n",
              "      <td>0</td>\n",
              "    </tr>\n",
              "    <tr>\n",
              "      <th>2</th>\n",
              "      <td>0</td>\n",
              "      <td>2</td>\n",
              "      <td>0</td>\n",
              "      <td>2</td>\n",
              "      <td>2</td>\n",
              "    </tr>\n",
              "    <tr>\n",
              "      <th>3</th>\n",
              "      <td>0</td>\n",
              "      <td>3</td>\n",
              "      <td>1</td>\n",
              "      <td>2</td>\n",
              "      <td>0</td>\n",
              "    </tr>\n",
              "    <tr>\n",
              "      <th>4</th>\n",
              "      <td>4</td>\n",
              "      <td>1</td>\n",
              "      <td>1</td>\n",
              "      <td>1</td>\n",
              "      <td>4</td>\n",
              "    </tr>\n",
              "    <tr>\n",
              "      <th>5</th>\n",
              "      <td>4</td>\n",
              "      <td>3</td>\n",
              "      <td>1</td>\n",
              "      <td>1</td>\n",
              "      <td>2</td>\n",
              "    </tr>\n",
              "    <tr>\n",
              "      <th>6</th>\n",
              "      <td>0</td>\n",
              "      <td>0</td>\n",
              "      <td>1</td>\n",
              "      <td>2</td>\n",
              "      <td>0</td>\n",
              "    </tr>\n",
              "  </tbody>\n",
              "</table>\n",
              "</div>"
            ],
            "text/plain": [
              "   A  B  C  D  E\n",
              "0  0  0  0  2  0\n",
              "1  0  1  0  2  0\n",
              "2  0  2  0  2  2\n",
              "3  0  3  1  2  0\n",
              "4  4  1  1  1  4\n",
              "5  4  3  1  1  2\n",
              "6  0  0  1  2  0"
            ]
          },
          "metadata": {
            "tags": []
          },
          "execution_count": 25
        }
      ]
    },
    {
      "cell_type": "code",
      "metadata": {
        "colab": {
          "base_uri": "https://localhost:8080/",
          "height": 297
        },
        "id": "eoOJQ4_3txuh",
        "outputId": "ce50ea8d-ed16-45f7-ec99-860675db5c12"
      },
      "source": [
        "df.describe()"
      ],
      "execution_count": 26,
      "outputs": [
        {
          "output_type": "execute_result",
          "data": {
            "text/html": [
              "<div>\n",
              "<style scoped>\n",
              "    .dataframe tbody tr th:only-of-type {\n",
              "        vertical-align: middle;\n",
              "    }\n",
              "\n",
              "    .dataframe tbody tr th {\n",
              "        vertical-align: top;\n",
              "    }\n",
              "\n",
              "    .dataframe thead th {\n",
              "        text-align: right;\n",
              "    }\n",
              "</style>\n",
              "<table border=\"1\" class=\"dataframe\">\n",
              "  <thead>\n",
              "    <tr style=\"text-align: right;\">\n",
              "      <th></th>\n",
              "      <th>A</th>\n",
              "      <th>B</th>\n",
              "      <th>C</th>\n",
              "      <th>D</th>\n",
              "      <th>E</th>\n",
              "    </tr>\n",
              "  </thead>\n",
              "  <tbody>\n",
              "    <tr>\n",
              "      <th>count</th>\n",
              "      <td>7.000000</td>\n",
              "      <td>7.000000</td>\n",
              "      <td>7.000000</td>\n",
              "      <td>7.000000</td>\n",
              "      <td>7.000000</td>\n",
              "    </tr>\n",
              "    <tr>\n",
              "      <th>mean</th>\n",
              "      <td>1.142857</td>\n",
              "      <td>1.428571</td>\n",
              "      <td>0.571429</td>\n",
              "      <td>1.714286</td>\n",
              "      <td>1.142857</td>\n",
              "    </tr>\n",
              "    <tr>\n",
              "      <th>std</th>\n",
              "      <td>1.951800</td>\n",
              "      <td>1.272418</td>\n",
              "      <td>0.534522</td>\n",
              "      <td>0.487950</td>\n",
              "      <td>1.573592</td>\n",
              "    </tr>\n",
              "    <tr>\n",
              "      <th>min</th>\n",
              "      <td>0.000000</td>\n",
              "      <td>0.000000</td>\n",
              "      <td>0.000000</td>\n",
              "      <td>1.000000</td>\n",
              "      <td>0.000000</td>\n",
              "    </tr>\n",
              "    <tr>\n",
              "      <th>25%</th>\n",
              "      <td>0.000000</td>\n",
              "      <td>0.500000</td>\n",
              "      <td>0.000000</td>\n",
              "      <td>1.500000</td>\n",
              "      <td>0.000000</td>\n",
              "    </tr>\n",
              "    <tr>\n",
              "      <th>50%</th>\n",
              "      <td>0.000000</td>\n",
              "      <td>1.000000</td>\n",
              "      <td>1.000000</td>\n",
              "      <td>2.000000</td>\n",
              "      <td>0.000000</td>\n",
              "    </tr>\n",
              "    <tr>\n",
              "      <th>75%</th>\n",
              "      <td>2.000000</td>\n",
              "      <td>2.500000</td>\n",
              "      <td>1.000000</td>\n",
              "      <td>2.000000</td>\n",
              "      <td>2.000000</td>\n",
              "    </tr>\n",
              "    <tr>\n",
              "      <th>max</th>\n",
              "      <td>4.000000</td>\n",
              "      <td>3.000000</td>\n",
              "      <td>1.000000</td>\n",
              "      <td>2.000000</td>\n",
              "      <td>4.000000</td>\n",
              "    </tr>\n",
              "  </tbody>\n",
              "</table>\n",
              "</div>"
            ],
            "text/plain": [
              "              A         B         C         D         E\n",
              "count  7.000000  7.000000  7.000000  7.000000  7.000000\n",
              "mean   1.142857  1.428571  0.571429  1.714286  1.142857\n",
              "std    1.951800  1.272418  0.534522  0.487950  1.573592\n",
              "min    0.000000  0.000000  0.000000  1.000000  0.000000\n",
              "25%    0.000000  0.500000  0.000000  1.500000  0.000000\n",
              "50%    0.000000  1.000000  1.000000  2.000000  0.000000\n",
              "75%    2.000000  2.500000  1.000000  2.000000  2.000000\n",
              "max    4.000000  3.000000  1.000000  2.000000  4.000000"
            ]
          },
          "metadata": {
            "tags": []
          },
          "execution_count": 26
        }
      ]
    },
    {
      "cell_type": "markdown",
      "metadata": {
        "id": "Akt7yeiYfQbP"
      },
      "source": [
        "We start easy with a ucc_2() function that only checks pairs of columns"
      ]
    },
    {
      "cell_type": "code",
      "metadata": {
        "colab": {
          "base_uri": "https://localhost:8080/",
          "height": 266
        },
        "id": "FDKr40Cu06TJ",
        "outputId": "81447c49-5a51-4c15-8a4f-f61da9fb6d03"
      },
      "source": [
        "#create a dataframe with an \"index\" column that will make supersets of \"test_col\" all UCCs\n",
        "df2 = df.copy()\n",
        "df2['test_col'] = range(1, len(df) + 1)\n",
        "df2"
      ],
      "execution_count": 27,
      "outputs": [
        {
          "output_type": "execute_result",
          "data": {
            "text/html": [
              "<div>\n",
              "<style scoped>\n",
              "    .dataframe tbody tr th:only-of-type {\n",
              "        vertical-align: middle;\n",
              "    }\n",
              "\n",
              "    .dataframe tbody tr th {\n",
              "        vertical-align: top;\n",
              "    }\n",
              "\n",
              "    .dataframe thead th {\n",
              "        text-align: right;\n",
              "    }\n",
              "</style>\n",
              "<table border=\"1\" class=\"dataframe\">\n",
              "  <thead>\n",
              "    <tr style=\"text-align: right;\">\n",
              "      <th></th>\n",
              "      <th>A</th>\n",
              "      <th>B</th>\n",
              "      <th>C</th>\n",
              "      <th>D</th>\n",
              "      <th>E</th>\n",
              "      <th>test_col</th>\n",
              "    </tr>\n",
              "  </thead>\n",
              "  <tbody>\n",
              "    <tr>\n",
              "      <th>0</th>\n",
              "      <td>0</td>\n",
              "      <td>0</td>\n",
              "      <td>0</td>\n",
              "      <td>2</td>\n",
              "      <td>0</td>\n",
              "      <td>1</td>\n",
              "    </tr>\n",
              "    <tr>\n",
              "      <th>1</th>\n",
              "      <td>0</td>\n",
              "      <td>1</td>\n",
              "      <td>0</td>\n",
              "      <td>2</td>\n",
              "      <td>0</td>\n",
              "      <td>2</td>\n",
              "    </tr>\n",
              "    <tr>\n",
              "      <th>2</th>\n",
              "      <td>0</td>\n",
              "      <td>2</td>\n",
              "      <td>0</td>\n",
              "      <td>2</td>\n",
              "      <td>2</td>\n",
              "      <td>3</td>\n",
              "    </tr>\n",
              "    <tr>\n",
              "      <th>3</th>\n",
              "      <td>0</td>\n",
              "      <td>3</td>\n",
              "      <td>1</td>\n",
              "      <td>2</td>\n",
              "      <td>0</td>\n",
              "      <td>4</td>\n",
              "    </tr>\n",
              "    <tr>\n",
              "      <th>4</th>\n",
              "      <td>4</td>\n",
              "      <td>1</td>\n",
              "      <td>1</td>\n",
              "      <td>1</td>\n",
              "      <td>4</td>\n",
              "      <td>5</td>\n",
              "    </tr>\n",
              "    <tr>\n",
              "      <th>5</th>\n",
              "      <td>4</td>\n",
              "      <td>3</td>\n",
              "      <td>1</td>\n",
              "      <td>1</td>\n",
              "      <td>2</td>\n",
              "      <td>6</td>\n",
              "    </tr>\n",
              "    <tr>\n",
              "      <th>6</th>\n",
              "      <td>0</td>\n",
              "      <td>0</td>\n",
              "      <td>1</td>\n",
              "      <td>2</td>\n",
              "      <td>0</td>\n",
              "      <td>7</td>\n",
              "    </tr>\n",
              "  </tbody>\n",
              "</table>\n",
              "</div>"
            ],
            "text/plain": [
              "   A  B  C  D  E  test_col\n",
              "0  0  0  0  2  0         1\n",
              "1  0  1  0  2  0         2\n",
              "2  0  2  0  2  2         3\n",
              "3  0  3  1  2  0         4\n",
              "4  4  1  1  1  4         5\n",
              "5  4  3  1  1  2         6\n",
              "6  0  0  1  2  0         7"
            ]
          },
          "metadata": {
            "tags": []
          },
          "execution_count": 27
        }
      ]
    },
    {
      "cell_type": "code",
      "metadata": {
        "id": "cSVMUzJ3t85_",
        "colab": {
          "base_uri": "https://localhost:8080/"
        },
        "outputId": "70be77a2-986f-473a-8e0b-fda8a618984a"
      },
      "source": [
        "def ucc_2(df):\n",
        "  list_of_uccs = []\n",
        "  #for every column\n",
        "  for col in df:\n",
        "    #for every combination of column\n",
        "    for col2 in df:\n",
        "      #if the columns are not the same one and they do not have duplicate rows when joined row by row:\n",
        "      if (col != col2 and len(df[col].index) == len(((pd.concat([df2[col], df2[col2]], axis=1)).drop_duplicates()).index)):\n",
        "        #add to the list of uccs\n",
        "        list_of_uccs.append((col, col2))\n",
        "  return list_of_uccs\n",
        "\n",
        "#we run ucc() on default dataframe and get an empty result because there are no UCCs  \n",
        "ucc_2(df)        "
      ],
      "execution_count": 28,
      "outputs": [
        {
          "output_type": "execute_result",
          "data": {
            "text/plain": [
              "[]"
            ]
          },
          "metadata": {
            "tags": []
          },
          "execution_count": 28
        }
      ]
    },
    {
      "cell_type": "code",
      "metadata": {
        "colab": {
          "base_uri": "https://localhost:8080/"
        },
        "id": "UzTYUuRI1kea",
        "outputId": "cb89d634-89f2-47aa-8881-df9e5ede5bf2"
      },
      "source": [
        "#we can see that the function returns supersets of \"test_col\" as UCCs -- should we keep the symetry ?\n",
        "ucc_2(df2)"
      ],
      "execution_count": 29,
      "outputs": [
        {
          "output_type": "execute_result",
          "data": {
            "text/plain": [
              "[('A', 'test_col'),\n",
              " ('B', 'test_col'),\n",
              " ('C', 'test_col'),\n",
              " ('D', 'test_col'),\n",
              " ('E', 'test_col'),\n",
              " ('test_col', 'A'),\n",
              " ('test_col', 'B'),\n",
              " ('test_col', 'C'),\n",
              " ('test_col', 'D'),\n",
              " ('test_col', 'E')]"
            ]
          },
          "metadata": {
            "tags": []
          },
          "execution_count": 29
        }
      ]
    },
    {
      "cell_type": "markdown",
      "metadata": {
        "id": "PtCFk5ooa4qN"
      },
      "source": [
        "We need to find all combinations of columns that are UCC, not only two columns.\n",
        "We use itertools to generate all combinations of columns from df :"
      ]
    },
    {
      "cell_type": "code",
      "metadata": {
        "colab": {
          "base_uri": "https://localhost:8080/"
        },
        "id": "SRdBlpChbmQq",
        "outputId": "c08905f0-fbd6-4677-9d94-f08064b77390"
      },
      "source": [
        "from itertools import combinations \n",
        "\n",
        "column_combination = []\n",
        "for i in range(1, len(df.columns)+1):\n",
        "  for item in list(combinations(df.columns, i)):\n",
        "    column_combination.append(item)\n",
        "column_combination"
      ],
      "execution_count": 30,
      "outputs": [
        {
          "output_type": "execute_result",
          "data": {
            "text/plain": [
              "[('A',),\n",
              " ('B',),\n",
              " ('C',),\n",
              " ('D',),\n",
              " ('E',),\n",
              " ('A', 'B'),\n",
              " ('A', 'C'),\n",
              " ('A', 'D'),\n",
              " ('A', 'E'),\n",
              " ('B', 'C'),\n",
              " ('B', 'D'),\n",
              " ('B', 'E'),\n",
              " ('C', 'D'),\n",
              " ('C', 'E'),\n",
              " ('D', 'E'),\n",
              " ('A', 'B', 'C'),\n",
              " ('A', 'B', 'D'),\n",
              " ('A', 'B', 'E'),\n",
              " ('A', 'C', 'D'),\n",
              " ('A', 'C', 'E'),\n",
              " ('A', 'D', 'E'),\n",
              " ('B', 'C', 'D'),\n",
              " ('B', 'C', 'E'),\n",
              " ('B', 'D', 'E'),\n",
              " ('C', 'D', 'E'),\n",
              " ('A', 'B', 'C', 'D'),\n",
              " ('A', 'B', 'C', 'E'),\n",
              " ('A', 'B', 'D', 'E'),\n",
              " ('A', 'C', 'D', 'E'),\n",
              " ('B', 'C', 'D', 'E'),\n",
              " ('A', 'B', 'C', 'D', 'E')]"
            ]
          },
          "metadata": {
            "tags": []
          },
          "execution_count": 30
        }
      ]
    },
    {
      "cell_type": "markdown",
      "metadata": {
        "id": "n1LRXZSbf6Wk"
      },
      "source": [
        "This ucc() function manages all combinations of columns"
      ]
    },
    {
      "cell_type": "code",
      "metadata": {
        "id": "TQJlP9PefX6e"
      },
      "source": [
        "from IPython.display import HTML, display\r\n",
        "import time\r\n",
        "\r\n",
        "def progress(value, max=100):\r\n",
        "    return HTML(\"\"\"\r\n",
        "        <progress\r\n",
        "            value='{value}'\r\n",
        "            max='{max}',\r\n",
        "            style='width: 100%'\r\n",
        "        >\r\n",
        "            {value}\r\n",
        "        </progress>\r\n",
        "    \"\"\".format(value=value, max=max))\r\n",
        "# out = display(progress(0, 100), display_id=True)"
      ],
      "execution_count": 36,
      "outputs": []
    },
    {
      "cell_type": "code",
      "metadata": {
        "colab": {
          "base_uri": "https://localhost:8080/",
          "height": 153
        },
        "id": "CBrSQBkwdCd6",
        "outputId": "5cde6255-3d6a-4ad9-e964-d172c72da808"
      },
      "source": [
        "def ucc(df):\n",
        "\n",
        "  column_combination = []\n",
        "  for i in range(1, len(df.columns)+1):\n",
        "    for item in list(combinations(df.columns, i)):\n",
        "      column_combination.append(item)\n",
        "\n",
        "  list_of_uccs = []\n",
        "  cpt = 0\n",
        "  for comb in column_combination:\n",
        "    frames = []\n",
        "    for col_name in list(comb):\n",
        "      frames.append(df[col_name])\n",
        "    # print(pd.concat(frames, axis=1).drop_duplicates())\n",
        "    if (len(frames[0].index) == len(((pd.concat(frames, axis=1)).drop_duplicates()).index)):\n",
        "      list_of_uccs.append(comb)\n",
        "    \n",
        "    cpt+=1\n",
        "    out.update(progress(cpt, len(column_combination)))\n",
        "\n",
        "  return list_of_uccs\n",
        "\n",
        "ucc(df)"
      ],
      "execution_count": 37,
      "outputs": [
        {
          "output_type": "display_data",
          "data": {
            "text/html": [
              "\n",
              "        <progress\n",
              "            value='31'\n",
              "            max='31',\n",
              "            style='width: 100%'\n",
              "        >\n",
              "            31\n",
              "        </progress>\n",
              "    "
            ],
            "text/plain": [
              "<IPython.core.display.HTML object>"
            ]
          },
          "metadata": {
            "tags": []
          }
        },
        {
          "output_type": "execute_result",
          "data": {
            "text/plain": [
              "[('A', 'B', 'C'),\n",
              " ('B', 'C', 'D'),\n",
              " ('B', 'C', 'E'),\n",
              " ('A', 'B', 'C', 'D'),\n",
              " ('A', 'B', 'C', 'E'),\n",
              " ('B', 'C', 'D', 'E'),\n",
              " ('A', 'B', 'C', 'D', 'E')]"
            ]
          },
          "metadata": {
            "tags": []
          },
          "execution_count": 37
        }
      ]
    },
    {
      "cell_type": "markdown",
      "metadata": {
        "id": "10_XS7gRhb6f"
      },
      "source": [
        "Now we try it with the df2 that contains \"test_col\" to see if all supersets of \"test_col\" are generated :"
      ]
    },
    {
      "cell_type": "code",
      "metadata": {
        "colab": {
          "base_uri": "https://localhost:8080/",
          "height": 697
        },
        "id": "kVD9G9BsfbeC",
        "outputId": "881a55a3-19ef-4609-8d9a-6d53c95dc4b7"
      },
      "source": [
        "ucc(df2)"
      ],
      "execution_count": 38,
      "outputs": [
        {
          "output_type": "display_data",
          "data": {
            "text/html": [
              "\n",
              "        <progress\n",
              "            value='63'\n",
              "            max='63',\n",
              "            style='width: 100%'\n",
              "        >\n",
              "            63\n",
              "        </progress>\n",
              "    "
            ],
            "text/plain": [
              "<IPython.core.display.HTML object>"
            ]
          },
          "metadata": {
            "tags": []
          }
        },
        {
          "output_type": "execute_result",
          "data": {
            "text/plain": [
              "[('test_col',),\n",
              " ('A', 'test_col'),\n",
              " ('B', 'test_col'),\n",
              " ('C', 'test_col'),\n",
              " ('D', 'test_col'),\n",
              " ('E', 'test_col'),\n",
              " ('A', 'B', 'C'),\n",
              " ('A', 'B', 'test_col'),\n",
              " ('A', 'C', 'test_col'),\n",
              " ('A', 'D', 'test_col'),\n",
              " ('A', 'E', 'test_col'),\n",
              " ('B', 'C', 'D'),\n",
              " ('B', 'C', 'E'),\n",
              " ('B', 'C', 'test_col'),\n",
              " ('B', 'D', 'test_col'),\n",
              " ('B', 'E', 'test_col'),\n",
              " ('C', 'D', 'test_col'),\n",
              " ('C', 'E', 'test_col'),\n",
              " ('D', 'E', 'test_col'),\n",
              " ('A', 'B', 'C', 'D'),\n",
              " ('A', 'B', 'C', 'E'),\n",
              " ('A', 'B', 'C', 'test_col'),\n",
              " ('A', 'B', 'D', 'test_col'),\n",
              " ('A', 'B', 'E', 'test_col'),\n",
              " ('A', 'C', 'D', 'test_col'),\n",
              " ('A', 'C', 'E', 'test_col'),\n",
              " ('A', 'D', 'E', 'test_col'),\n",
              " ('B', 'C', 'D', 'E'),\n",
              " ('B', 'C', 'D', 'test_col'),\n",
              " ('B', 'C', 'E', 'test_col'),\n",
              " ('B', 'D', 'E', 'test_col'),\n",
              " ('C', 'D', 'E', 'test_col'),\n",
              " ('A', 'B', 'C', 'D', 'E'),\n",
              " ('A', 'B', 'C', 'D', 'test_col'),\n",
              " ('A', 'B', 'C', 'E', 'test_col'),\n",
              " ('A', 'B', 'D', 'E', 'test_col'),\n",
              " ('A', 'C', 'D', 'E', 'test_col'),\n",
              " ('B', 'C', 'D', 'E', 'test_col'),\n",
              " ('A', 'B', 'C', 'D', 'E', 'test_col')]"
            ]
          },
          "metadata": {
            "tags": []
          },
          "execution_count": 38
        }
      ]
    },
    {
      "cell_type": "code",
      "metadata": {
        "colab": {
          "base_uri": "https://localhost:8080/",
          "height": 419
        },
        "id": "_9Upa33lfS8c",
        "outputId": "a11c9dec-9caf-4e95-c938-7d78b303656c"
      },
      "source": [
        "# attributes from :\r\n",
        "# https://archive.ics.uci.edu/ml/datasets/Forest+Fires\r\n",
        "\r\n",
        "  #  1. X - x-axis spatial coordinate within the Montesinho park map: 1 to 9\r\n",
        "  #  2. Y - y-axis spatial coordinate within the Montesinho park map: 2 to 9\r\n",
        "  #  3. month - month of the year: \"jan\" to \"dec\" \r\n",
        "  #  4. day - day of the week: \"mon\" to \"sun\"\r\n",
        "  #  5. FFMC - FFMC index from the FWI system: 18.7 to 96.20\r\n",
        "  #  6. DMC - DMC index from the FWI system: 1.1 to 291.3 \r\n",
        "  #  7. DC - DC index from the FWI system: 7.9 to 860.6 \r\n",
        "  #  8. ISI - ISI index from the FWI system: 0.0 to 56.10\r\n",
        "  #  9. temp - temperature in Celsius degrees: 2.2 to 33.30\r\n",
        "  #  10. RH - relative humidity in %: 15.0 to 100\r\n",
        "  #  11. wind - wind speed in km/h: 0.40 to 9.40 \r\n",
        "  #  12. rain - outside rain in mm/m2 : 0.0 to 6.4 \r\n",
        "  #  13. area - the burned area of the forest (in ha): 0.00 to 1090.84 \r\n",
        "  #  (this output variable is very skewed towards 0.0, thus it may make\r\n",
        "  #   sense to model with the logarithm transform). \r\n",
        "\r\n",
        "forest_fires = pd.read_csv('https://archive.ics.uci.edu/ml/machine-learning-databases/forest-fires/forestfires.csv',\r\n",
        "                        sep=',', encoding='latin-1')\r\n",
        "\r\n",
        "forest_fires"
      ],
      "execution_count": 34,
      "outputs": [
        {
          "output_type": "execute_result",
          "data": {
            "text/html": [
              "<div>\n",
              "<style scoped>\n",
              "    .dataframe tbody tr th:only-of-type {\n",
              "        vertical-align: middle;\n",
              "    }\n",
              "\n",
              "    .dataframe tbody tr th {\n",
              "        vertical-align: top;\n",
              "    }\n",
              "\n",
              "    .dataframe thead th {\n",
              "        text-align: right;\n",
              "    }\n",
              "</style>\n",
              "<table border=\"1\" class=\"dataframe\">\n",
              "  <thead>\n",
              "    <tr style=\"text-align: right;\">\n",
              "      <th></th>\n",
              "      <th>X</th>\n",
              "      <th>Y</th>\n",
              "      <th>month</th>\n",
              "      <th>day</th>\n",
              "      <th>FFMC</th>\n",
              "      <th>DMC</th>\n",
              "      <th>DC</th>\n",
              "      <th>ISI</th>\n",
              "      <th>temp</th>\n",
              "      <th>RH</th>\n",
              "      <th>wind</th>\n",
              "      <th>rain</th>\n",
              "      <th>area</th>\n",
              "    </tr>\n",
              "  </thead>\n",
              "  <tbody>\n",
              "    <tr>\n",
              "      <th>0</th>\n",
              "      <td>7</td>\n",
              "      <td>5</td>\n",
              "      <td>mar</td>\n",
              "      <td>fri</td>\n",
              "      <td>86.2</td>\n",
              "      <td>26.2</td>\n",
              "      <td>94.3</td>\n",
              "      <td>5.1</td>\n",
              "      <td>8.2</td>\n",
              "      <td>51</td>\n",
              "      <td>6.7</td>\n",
              "      <td>0.0</td>\n",
              "      <td>0.00</td>\n",
              "    </tr>\n",
              "    <tr>\n",
              "      <th>1</th>\n",
              "      <td>7</td>\n",
              "      <td>4</td>\n",
              "      <td>oct</td>\n",
              "      <td>tue</td>\n",
              "      <td>90.6</td>\n",
              "      <td>35.4</td>\n",
              "      <td>669.1</td>\n",
              "      <td>6.7</td>\n",
              "      <td>18.0</td>\n",
              "      <td>33</td>\n",
              "      <td>0.9</td>\n",
              "      <td>0.0</td>\n",
              "      <td>0.00</td>\n",
              "    </tr>\n",
              "    <tr>\n",
              "      <th>2</th>\n",
              "      <td>7</td>\n",
              "      <td>4</td>\n",
              "      <td>oct</td>\n",
              "      <td>sat</td>\n",
              "      <td>90.6</td>\n",
              "      <td>43.7</td>\n",
              "      <td>686.9</td>\n",
              "      <td>6.7</td>\n",
              "      <td>14.6</td>\n",
              "      <td>33</td>\n",
              "      <td>1.3</td>\n",
              "      <td>0.0</td>\n",
              "      <td>0.00</td>\n",
              "    </tr>\n",
              "    <tr>\n",
              "      <th>3</th>\n",
              "      <td>8</td>\n",
              "      <td>6</td>\n",
              "      <td>mar</td>\n",
              "      <td>fri</td>\n",
              "      <td>91.7</td>\n",
              "      <td>33.3</td>\n",
              "      <td>77.5</td>\n",
              "      <td>9.0</td>\n",
              "      <td>8.3</td>\n",
              "      <td>97</td>\n",
              "      <td>4.0</td>\n",
              "      <td>0.2</td>\n",
              "      <td>0.00</td>\n",
              "    </tr>\n",
              "    <tr>\n",
              "      <th>4</th>\n",
              "      <td>8</td>\n",
              "      <td>6</td>\n",
              "      <td>mar</td>\n",
              "      <td>sun</td>\n",
              "      <td>89.3</td>\n",
              "      <td>51.3</td>\n",
              "      <td>102.2</td>\n",
              "      <td>9.6</td>\n",
              "      <td>11.4</td>\n",
              "      <td>99</td>\n",
              "      <td>1.8</td>\n",
              "      <td>0.0</td>\n",
              "      <td>0.00</td>\n",
              "    </tr>\n",
              "    <tr>\n",
              "      <th>...</th>\n",
              "      <td>...</td>\n",
              "      <td>...</td>\n",
              "      <td>...</td>\n",
              "      <td>...</td>\n",
              "      <td>...</td>\n",
              "      <td>...</td>\n",
              "      <td>...</td>\n",
              "      <td>...</td>\n",
              "      <td>...</td>\n",
              "      <td>...</td>\n",
              "      <td>...</td>\n",
              "      <td>...</td>\n",
              "      <td>...</td>\n",
              "    </tr>\n",
              "    <tr>\n",
              "      <th>512</th>\n",
              "      <td>4</td>\n",
              "      <td>3</td>\n",
              "      <td>aug</td>\n",
              "      <td>sun</td>\n",
              "      <td>81.6</td>\n",
              "      <td>56.7</td>\n",
              "      <td>665.6</td>\n",
              "      <td>1.9</td>\n",
              "      <td>27.8</td>\n",
              "      <td>32</td>\n",
              "      <td>2.7</td>\n",
              "      <td>0.0</td>\n",
              "      <td>6.44</td>\n",
              "    </tr>\n",
              "    <tr>\n",
              "      <th>513</th>\n",
              "      <td>2</td>\n",
              "      <td>4</td>\n",
              "      <td>aug</td>\n",
              "      <td>sun</td>\n",
              "      <td>81.6</td>\n",
              "      <td>56.7</td>\n",
              "      <td>665.6</td>\n",
              "      <td>1.9</td>\n",
              "      <td>21.9</td>\n",
              "      <td>71</td>\n",
              "      <td>5.8</td>\n",
              "      <td>0.0</td>\n",
              "      <td>54.29</td>\n",
              "    </tr>\n",
              "    <tr>\n",
              "      <th>514</th>\n",
              "      <td>7</td>\n",
              "      <td>4</td>\n",
              "      <td>aug</td>\n",
              "      <td>sun</td>\n",
              "      <td>81.6</td>\n",
              "      <td>56.7</td>\n",
              "      <td>665.6</td>\n",
              "      <td>1.9</td>\n",
              "      <td>21.2</td>\n",
              "      <td>70</td>\n",
              "      <td>6.7</td>\n",
              "      <td>0.0</td>\n",
              "      <td>11.16</td>\n",
              "    </tr>\n",
              "    <tr>\n",
              "      <th>515</th>\n",
              "      <td>1</td>\n",
              "      <td>4</td>\n",
              "      <td>aug</td>\n",
              "      <td>sat</td>\n",
              "      <td>94.4</td>\n",
              "      <td>146.0</td>\n",
              "      <td>614.7</td>\n",
              "      <td>11.3</td>\n",
              "      <td>25.6</td>\n",
              "      <td>42</td>\n",
              "      <td>4.0</td>\n",
              "      <td>0.0</td>\n",
              "      <td>0.00</td>\n",
              "    </tr>\n",
              "    <tr>\n",
              "      <th>516</th>\n",
              "      <td>6</td>\n",
              "      <td>3</td>\n",
              "      <td>nov</td>\n",
              "      <td>tue</td>\n",
              "      <td>79.5</td>\n",
              "      <td>3.0</td>\n",
              "      <td>106.7</td>\n",
              "      <td>1.1</td>\n",
              "      <td>11.8</td>\n",
              "      <td>31</td>\n",
              "      <td>4.5</td>\n",
              "      <td>0.0</td>\n",
              "      <td>0.00</td>\n",
              "    </tr>\n",
              "  </tbody>\n",
              "</table>\n",
              "<p>517 rows × 13 columns</p>\n",
              "</div>"
            ],
            "text/plain": [
              "     X  Y month  day  FFMC    DMC     DC   ISI  temp  RH  wind  rain   area\n",
              "0    7  5   mar  fri  86.2   26.2   94.3   5.1   8.2  51   6.7   0.0   0.00\n",
              "1    7  4   oct  tue  90.6   35.4  669.1   6.7  18.0  33   0.9   0.0   0.00\n",
              "2    7  4   oct  sat  90.6   43.7  686.9   6.7  14.6  33   1.3   0.0   0.00\n",
              "3    8  6   mar  fri  91.7   33.3   77.5   9.0   8.3  97   4.0   0.2   0.00\n",
              "4    8  6   mar  sun  89.3   51.3  102.2   9.6  11.4  99   1.8   0.0   0.00\n",
              "..  .. ..   ...  ...   ...    ...    ...   ...   ...  ..   ...   ...    ...\n",
              "512  4  3   aug  sun  81.6   56.7  665.6   1.9  27.8  32   2.7   0.0   6.44\n",
              "513  2  4   aug  sun  81.6   56.7  665.6   1.9  21.9  71   5.8   0.0  54.29\n",
              "514  7  4   aug  sun  81.6   56.7  665.6   1.9  21.2  70   6.7   0.0  11.16\n",
              "515  1  4   aug  sat  94.4  146.0  614.7  11.3  25.6  42   4.0   0.0   0.00\n",
              "516  6  3   nov  tue  79.5    3.0  106.7   1.1  11.8  31   4.5   0.0   0.00\n",
              "\n",
              "[517 rows x 13 columns]"
            ]
          },
          "metadata": {
            "tags": []
          },
          "execution_count": 34
        }
      ]
    },
    {
      "cell_type": "code",
      "metadata": {
        "colab": {
          "base_uri": "https://localhost:8080/",
          "height": 51
        },
        "id": "cPJndDpliq8k",
        "outputId": "565c8bad-7abb-4b98-98ca-03991ebc00a6"
      },
      "source": [
        "ucc(forest_fires)"
      ],
      "execution_count": 39,
      "outputs": [
        {
          "output_type": "display_data",
          "data": {
            "text/html": [
              "\n",
              "        <progress\n",
              "            value='8191'\n",
              "            max='8191',\n",
              "            style='width: 100%'\n",
              "        >\n",
              "            8191\n",
              "        </progress>\n",
              "    "
            ],
            "text/plain": [
              "<IPython.core.display.HTML object>"
            ]
          },
          "metadata": {
            "tags": []
          }
        },
        {
          "output_type": "execute_result",
          "data": {
            "text/plain": [
              "[]"
            ]
          },
          "metadata": {
            "tags": []
          },
          "execution_count": 39
        }
      ]
    }
  ]
}